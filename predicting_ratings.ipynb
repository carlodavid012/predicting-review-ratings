{
 "cells": [
  {
   "cell_type": "markdown",
   "metadata": {},
   "source": [
    "### Predicting Amazon Rating Reviews"
   ]
  },
  {
   "cell_type": "code",
   "execution_count": 70,
   "metadata": {},
   "outputs": [],
   "source": [
    "import pandas as pd\n",
    "import numpy as np\n",
    "import matplotlib.pyplot as plt\n",
    "import csv\n",
    "import seaborn as sns\n",
    "%matplotlib inline"
   ]
  },
  {
   "cell_type": "code",
   "execution_count": 71,
   "metadata": {},
   "outputs": [],
   "source": [
    "df = pd.read_csv('amazon_reviews_us_Furniture_v1_00.tsv', sep = '\\t', engine=\"python\",  quoting = csv.QUOTE_NONE)"
   ]
  },
  {
   "cell_type": "code",
   "execution_count": 72,
   "metadata": {},
   "outputs": [
    {
     "data": {
      "text/html": [
       "<div>\n",
       "<style scoped>\n",
       "    .dataframe tbody tr th:only-of-type {\n",
       "        vertical-align: middle;\n",
       "    }\n",
       "\n",
       "    .dataframe tbody tr th {\n",
       "        vertical-align: top;\n",
       "    }\n",
       "\n",
       "    .dataframe thead th {\n",
       "        text-align: right;\n",
       "    }\n",
       "</style>\n",
       "<table border=\"1\" class=\"dataframe\">\n",
       "  <thead>\n",
       "    <tr style=\"text-align: right;\">\n",
       "      <th></th>\n",
       "      <th>marketplace</th>\n",
       "      <th>customer_id</th>\n",
       "      <th>review_id</th>\n",
       "      <th>product_id</th>\n",
       "      <th>product_parent</th>\n",
       "      <th>product_title</th>\n",
       "      <th>product_category</th>\n",
       "      <th>star_rating</th>\n",
       "      <th>helpful_votes</th>\n",
       "      <th>total_votes</th>\n",
       "      <th>vine</th>\n",
       "      <th>verified_purchase</th>\n",
       "      <th>review_headline</th>\n",
       "      <th>review_body</th>\n",
       "      <th>review_date</th>\n",
       "    </tr>\n",
       "  </thead>\n",
       "  <tbody>\n",
       "    <tr>\n",
       "      <th>0</th>\n",
       "      <td>US</td>\n",
       "      <td>24509695</td>\n",
       "      <td>R3VR960AHLFKDV</td>\n",
       "      <td>B004HB5E0E</td>\n",
       "      <td>488241329</td>\n",
       "      <td>Shoal Creek Computer Desk</td>\n",
       "      <td>Furniture</td>\n",
       "      <td>4</td>\n",
       "      <td>0</td>\n",
       "      <td>0</td>\n",
       "      <td>N</td>\n",
       "      <td>Y</td>\n",
       "      <td>... desk is very study and it i has a beautifu...</td>\n",
       "      <td>This desk is very study and it i has  a beauti...</td>\n",
       "      <td>2015-08-31</td>\n",
       "    </tr>\n",
       "    <tr>\n",
       "      <th>1</th>\n",
       "      <td>US</td>\n",
       "      <td>34731776</td>\n",
       "      <td>R16LGVMFKIUT0G</td>\n",
       "      <td>B0042TNMMS</td>\n",
       "      <td>205864445</td>\n",
       "      <td>Dorel Home Products Delaney Large Rectangular ...</td>\n",
       "      <td>Furniture</td>\n",
       "      <td>5</td>\n",
       "      <td>0</td>\n",
       "      <td>0</td>\n",
       "      <td>N</td>\n",
       "      <td>Y</td>\n",
       "      <td>Five Stars</td>\n",
       "      <td>Great item</td>\n",
       "      <td>2015-08-31</td>\n",
       "    </tr>\n",
       "    <tr>\n",
       "      <th>2</th>\n",
       "      <td>US</td>\n",
       "      <td>1272331</td>\n",
       "      <td>R1AIMEEPYHMOE4</td>\n",
       "      <td>B0030MPBZ4</td>\n",
       "      <td>124663823</td>\n",
       "      <td>Bathroom Vanity Table Jewelry Makeup Desk Benc...</td>\n",
       "      <td>Furniture</td>\n",
       "      <td>5</td>\n",
       "      <td>1</td>\n",
       "      <td>1</td>\n",
       "      <td>N</td>\n",
       "      <td>Y</td>\n",
       "      <td>Five Stars</td>\n",
       "      <td>Perfect fit for my bedroom, been wanting one s...</td>\n",
       "      <td>2015-08-31</td>\n",
       "    </tr>\n",
       "    <tr>\n",
       "      <th>3</th>\n",
       "      <td>US</td>\n",
       "      <td>45284262</td>\n",
       "      <td>R1892CCSZWZ9SR</td>\n",
       "      <td>B005G02ESA</td>\n",
       "      <td>382367578</td>\n",
       "      <td>Sleep Master Ultima Comfort Memory Foam 6 Inch...</td>\n",
       "      <td>Furniture</td>\n",
       "      <td>3</td>\n",
       "      <td>0</td>\n",
       "      <td>0</td>\n",
       "      <td>N</td>\n",
       "      <td>Y</td>\n",
       "      <td>Good enough</td>\n",
       "      <td>We use this on a trundle bed.  So, it does not...</td>\n",
       "      <td>2015-08-31</td>\n",
       "    </tr>\n",
       "    <tr>\n",
       "      <th>4</th>\n",
       "      <td>US</td>\n",
       "      <td>30003523</td>\n",
       "      <td>R285P679YWVKD1</td>\n",
       "      <td>B005JS8AUA</td>\n",
       "      <td>309497463</td>\n",
       "      <td>1 1/4\" GashGuards: Deluxe Rubberized Plastic B...</td>\n",
       "      <td>Furniture</td>\n",
       "      <td>3</td>\n",
       "      <td>0</td>\n",
       "      <td>0</td>\n",
       "      <td>N</td>\n",
       "      <td>N</td>\n",
       "      <td>Gash Gards for daybed</td>\n",
       "      <td>The product is fine...just seemed like it took...</td>\n",
       "      <td>2015-08-31</td>\n",
       "    </tr>\n",
       "  </tbody>\n",
       "</table>\n",
       "</div>"
      ],
      "text/plain": [
       "  marketplace  customer_id       review_id  product_id  product_parent  \\\n",
       "0          US     24509695  R3VR960AHLFKDV  B004HB5E0E       488241329   \n",
       "1          US     34731776  R16LGVMFKIUT0G  B0042TNMMS       205864445   \n",
       "2          US      1272331  R1AIMEEPYHMOE4  B0030MPBZ4       124663823   \n",
       "3          US     45284262  R1892CCSZWZ9SR  B005G02ESA       382367578   \n",
       "4          US     30003523  R285P679YWVKD1  B005JS8AUA       309497463   \n",
       "\n",
       "                                       product_title product_category  \\\n",
       "0                          Shoal Creek Computer Desk        Furniture   \n",
       "1  Dorel Home Products Delaney Large Rectangular ...        Furniture   \n",
       "2  Bathroom Vanity Table Jewelry Makeup Desk Benc...        Furniture   \n",
       "3  Sleep Master Ultima Comfort Memory Foam 6 Inch...        Furniture   \n",
       "4  1 1/4\" GashGuards: Deluxe Rubberized Plastic B...        Furniture   \n",
       "\n",
       "   star_rating  helpful_votes  total_votes vine verified_purchase  \\\n",
       "0            4              0            0    N                 Y   \n",
       "1            5              0            0    N                 Y   \n",
       "2            5              1            1    N                 Y   \n",
       "3            3              0            0    N                 Y   \n",
       "4            3              0            0    N                 N   \n",
       "\n",
       "                                     review_headline  \\\n",
       "0  ... desk is very study and it i has a beautifu...   \n",
       "1                                         Five Stars   \n",
       "2                                         Five Stars   \n",
       "3                                        Good enough   \n",
       "4                              Gash Gards for daybed   \n",
       "\n",
       "                                         review_body review_date  \n",
       "0  This desk is very study and it i has  a beauti...  2015-08-31  \n",
       "1                                         Great item  2015-08-31  \n",
       "2  Perfect fit for my bedroom, been wanting one s...  2015-08-31  \n",
       "3  We use this on a trundle bed.  So, it does not...  2015-08-31  \n",
       "4  The product is fine...just seemed like it took...  2015-08-31  "
      ]
     },
     "execution_count": 72,
     "metadata": {},
     "output_type": "execute_result"
    }
   ],
   "source": [
    "df.head()"
   ]
  },
  {
   "cell_type": "code",
   "execution_count": 73,
   "metadata": {},
   "outputs": [
    {
     "name": "stdout",
     "output_type": "stream",
     "text": [
      "<class 'pandas.core.frame.DataFrame'>\n",
      "RangeIndex: 792113 entries, 0 to 792112\n",
      "Data columns (total 15 columns):\n",
      "marketplace          792113 non-null object\n",
      "customer_id          792113 non-null int64\n",
      "review_id            792113 non-null object\n",
      "product_id           792113 non-null object\n",
      "product_parent       792113 non-null int64\n",
      "product_title        792082 non-null object\n",
      "product_category     792113 non-null object\n",
      "star_rating          792113 non-null int64\n",
      "helpful_votes        792113 non-null int64\n",
      "total_votes          792113 non-null int64\n",
      "vine                 792113 non-null object\n",
      "verified_purchase    792113 non-null object\n",
      "review_headline      792110 non-null object\n",
      "review_body          792010 non-null object\n",
      "review_date          792113 non-null object\n",
      "dtypes: int64(5), object(10)\n",
      "memory usage: 90.7+ MB\n"
     ]
    }
   ],
   "source": [
    "df.info()"
   ]
  },
  {
   "cell_type": "code",
   "execution_count": 74,
   "metadata": {},
   "outputs": [
    {
     "data": {
      "text/plain": [
       "112664"
      ]
     },
     "execution_count": 74,
     "metadata": {},
     "output_type": "execute_result"
    }
   ],
   "source": [
    "len(df['product_title'].unique())"
   ]
  },
  {
   "cell_type": "code",
   "execution_count": 75,
   "metadata": {},
   "outputs": [
    {
     "data": {
      "text/plain": [
       "718192"
      ]
     },
     "execution_count": 75,
     "metadata": {},
     "output_type": "execute_result"
    }
   ],
   "source": [
    "len(df[df['verified_purchase']=='Y'])"
   ]
  },
  {
   "cell_type": "code",
   "execution_count": 76,
   "metadata": {},
   "outputs": [
    {
     "data": {
      "text/plain": [
       "array(['US'], dtype=object)"
      ]
     },
     "execution_count": 76,
     "metadata": {},
     "output_type": "execute_result"
    }
   ],
   "source": [
    "df['marketplace'].unique()"
   ]
  },
  {
   "cell_type": "code",
   "execution_count": 77,
   "metadata": {},
   "outputs": [
    {
     "data": {
      "text/plain": [
       "6390"
      ]
     },
     "execution_count": 77,
     "metadata": {},
     "output_type": "execute_result"
    }
   ],
   "source": [
    "df['helpful_votes'].max()"
   ]
  },
  {
   "cell_type": "code",
   "execution_count": 78,
   "metadata": {},
   "outputs": [
    {
     "data": {
      "text/plain": [
       "marketplace            0\n",
       "customer_id            0\n",
       "review_id              0\n",
       "product_id             0\n",
       "product_parent         0\n",
       "product_title         31\n",
       "product_category       0\n",
       "star_rating            0\n",
       "helpful_votes          0\n",
       "total_votes            0\n",
       "vine                   0\n",
       "verified_purchase      0\n",
       "review_headline        3\n",
       "review_body          103\n",
       "review_date            0\n",
       "dtype: int64"
      ]
     },
     "execution_count": 78,
     "metadata": {},
     "output_type": "execute_result"
    }
   ],
   "source": [
    "df.isnull().sum()"
   ]
  },
  {
   "cell_type": "code",
   "execution_count": 79,
   "metadata": {},
   "outputs": [],
   "source": [
    "df = df.dropna()"
   ]
  },
  {
   "cell_type": "code",
   "execution_count": 80,
   "metadata": {},
   "outputs": [
    {
     "name": "stdout",
     "output_type": "stream",
     "text": [
      "<class 'pandas.core.frame.DataFrame'>\n",
      "Int64Index: 791976 entries, 0 to 792112\n",
      "Data columns (total 15 columns):\n",
      "marketplace          791976 non-null object\n",
      "customer_id          791976 non-null int64\n",
      "review_id            791976 non-null object\n",
      "product_id           791976 non-null object\n",
      "product_parent       791976 non-null int64\n",
      "product_title        791976 non-null object\n",
      "product_category     791976 non-null object\n",
      "star_rating          791976 non-null int64\n",
      "helpful_votes        791976 non-null int64\n",
      "total_votes          791976 non-null int64\n",
      "vine                 791976 non-null object\n",
      "verified_purchase    791976 non-null object\n",
      "review_headline      791976 non-null object\n",
      "review_body          791976 non-null object\n",
      "review_date          791976 non-null object\n",
      "dtypes: int64(5), object(10)\n",
      "memory usage: 96.7+ MB\n"
     ]
    }
   ],
   "source": [
    "df.info()"
   ]
  },
  {
   "cell_type": "markdown",
   "metadata": {},
   "source": [
    "### EDA"
   ]
  },
  {
   "cell_type": "code",
   "execution_count": 82,
   "metadata": {},
   "outputs": [
    {
     "data": {
      "text/plain": [
       "Text(0.5, 0, 'Star Ratings')"
      ]
     },
     "execution_count": 82,
     "metadata": {},
     "output_type": "execute_result"
    },
    {
     "data": {
      "image/png": "[encoded data removed]",
      "text/plain": [
       "<Figure size 720x504 with 1 Axes>"
      ]
     },
     "metadata": {
      "needs_background": "light"
     },
     "output_type": "display_data"
    }
   ],
   "source": [
    "#\n",
    "plt.figure(figsize=(10,7))\n",
    "plt.rcParams.update({'font.size': 20})\n",
    "\n",
    "\n",
    "sns.countplot(x = 'star_rating', data = df)\n",
    "plt.xlabel('Star Ratings')\n"
   ]
  },
  {
   "cell_type": "code",
   "execution_count": null,
   "metadata": {},
   "outputs": [],
   "source": []
  },
  {
   "cell_type": "code",
   "execution_count": 116,
   "metadata": {},
   "outputs": [],
   "source": [
    "df1 = df.loc[:, ['star_rating', 'review_body']]"
   ]
  },
  {
   "cell_type": "code",
   "execution_count": 117,
   "metadata": {},
   "outputs": [],
   "source": [
    "# rating_2 = list(df[df['star_rating']==2].index)"
   ]
  },
  {
   "cell_type": "code",
   "execution_count": null,
   "metadata": {},
   "outputs": [],
   "source": []
  },
  {
   "cell_type": "code",
   "execution_count": 118,
   "metadata": {},
   "outputs": [],
   "source": [
    "# def remove_data(rating):\n",
    "#     return df[df['star_rating']==rating].index[:43840]"
   ]
  },
  {
   "cell_type": "code",
   "execution_count": 119,
   "metadata": {},
   "outputs": [],
   "source": [
    "# rating_1= remove_data(1)\n",
    "# rating_3= remove_data(3)\n",
    "# rating_4= remove_data(4)\n",
    "# rating_5= remove_data(5)"
   ]
  },
  {
   "cell_type": "code",
   "execution_count": 120,
   "metadata": {},
   "outputs": [],
   "source": [
    "# for i in df['review_body']:\n",
    "#     print(i)"
   ]
  },
  {
   "cell_type": "code",
   "execution_count": 122,
   "metadata": {},
   "outputs": [
    {
     "name": "stderr",
     "output_type": "stream",
     "text": [
      "[nltk_data] Downloading package stopwords to /home/jupyter-\n",
      "[nltk_data]     mnl3.carlo/nltk_data...\n",
      "[nltk_data]   Package stopwords is already up-to-date!\n"
     ]
    }
   ],
   "source": [
    "import nltk\n",
    "nltk.download('stopwords')\n",
    "from nltk.corpus import stopwords\n",
    "stop_words1 = stopwords.words('english')"
   ]
  },
  {
   "cell_type": "code",
   "execution_count": 123,
   "metadata": {},
   "outputs": [],
   "source": [
    "# convert reviews to lowercase\n",
    "df1['review_body'] = df1['review_body'].str.lower()"
   ]
  },
  {
   "cell_type": "code",
   "execution_count": 124,
   "metadata": {},
   "outputs": [],
   "source": [
    "# remove punctuations\n",
    "from string import punctuation"
   ]
  },
  {
   "cell_type": "code",
   "execution_count": 125,
   "metadata": {},
   "outputs": [
    {
     "name": "stderr",
     "output_type": "stream",
     "text": [
      "/opt/tljh/user/lib/python3.6/site-packages/ipykernel_launcher.py:2: SettingWithCopyWarning: \n",
      "A value is trying to be set on a copy of a slice from a DataFrame\n",
      "\n",
      "See the caveats in the documentation: http://pandas.pydata.org/pandas-docs/stable/user_guide/indexing.html#returning-a-view-versus-a-copy\n",
      "  \n"
     ]
    }
   ],
   "source": [
    "for i,j in enumerate(df1['review_body']):\n",
    "    df1['review_body'][i] = ''.join([c for c in j if c not in punctuation])"
   ]
  },
  {
   "cell_type": "code",
   "execution_count": 126,
   "metadata": {},
   "outputs": [
    {
     "data": {
      "text/html": [
       "<div>\n",
       "<style scoped>\n",
       "    .dataframe tbody tr th:only-of-type {\n",
       "        vertical-align: middle;\n",
       "    }\n",
       "\n",
       "    .dataframe tbody tr th {\n",
       "        vertical-align: top;\n",
       "    }\n",
       "\n",
       "    .dataframe thead th {\n",
       "        text-align: right;\n",
       "    }\n",
       "</style>\n",
       "<table border=\"1\" class=\"dataframe\">\n",
       "  <thead>\n",
       "    <tr style=\"text-align: right;\">\n",
       "      <th></th>\n",
       "      <th>star_rating</th>\n",
       "      <th>review_body</th>\n",
       "    </tr>\n",
       "  </thead>\n",
       "  <tbody>\n",
       "    <tr>\n",
       "      <th>0</th>\n",
       "      <td>4</td>\n",
       "      <td>this desk is very study and it i has  a beauti...</td>\n",
       "    </tr>\n",
       "    <tr>\n",
       "      <th>1</th>\n",
       "      <td>5</td>\n",
       "      <td>great item</td>\n",
       "    </tr>\n",
       "    <tr>\n",
       "      <th>2</th>\n",
       "      <td>5</td>\n",
       "      <td>perfect fit for my bedroom been wanting one si...</td>\n",
       "    </tr>\n",
       "    <tr>\n",
       "      <th>3</th>\n",
       "      <td>3</td>\n",
       "      <td>we use this on a trundle bed  so it does not g...</td>\n",
       "    </tr>\n",
       "    <tr>\n",
       "      <th>4</th>\n",
       "      <td>3</td>\n",
       "      <td>the product is finejust seemed like it took aw...</td>\n",
       "    </tr>\n",
       "    <tr>\n",
       "      <th>5</th>\n",
       "      <td>5</td>\n",
       "      <td>love this product amazing delivery thank you</td>\n",
       "    </tr>\n",
       "    <tr>\n",
       "      <th>6</th>\n",
       "      <td>5</td>\n",
       "      <td>i love this bench had one in black for over fi...</td>\n",
       "    </tr>\n",
       "    <tr>\n",
       "      <th>7</th>\n",
       "      <td>5</td>\n",
       "      <td>have had this for over a year  very well made ...</td>\n",
       "    </tr>\n",
       "    <tr>\n",
       "      <th>8</th>\n",
       "      <td>5</td>\n",
       "      <td>this is the best step stool i have ever used  ...</td>\n",
       "    </tr>\n",
       "    <tr>\n",
       "      <th>9</th>\n",
       "      <td>5</td>\n",
       "      <td>my son loves it</td>\n",
       "    </tr>\n",
       "    <tr>\n",
       "      <th>10</th>\n",
       "      <td>5</td>\n",
       "      <td>great product</td>\n",
       "    </tr>\n",
       "    <tr>\n",
       "      <th>11</th>\n",
       "      <td>5</td>\n",
       "      <td>bought with sleep contour 834 foam arrived ont...</td>\n",
       "    </tr>\n",
       "    <tr>\n",
       "      <th>12</th>\n",
       "      <td>5</td>\n",
       "      <td>delivery was on time i was very satisfied with...</td>\n",
       "    </tr>\n",
       "    <tr>\n",
       "      <th>13</th>\n",
       "      <td>5</td>\n",
       "      <td>exactly as pictured plush soft and great for i...</td>\n",
       "    </tr>\n",
       "    <tr>\n",
       "      <th>14</th>\n",
       "      <td>5</td>\n",
       "      <td>beautiful table  its good quality and heavy  p...</td>\n",
       "    </tr>\n",
       "    <tr>\n",
       "      <th>15</th>\n",
       "      <td>1</td>\n",
       "      <td>i have cleaned up the last mess from using thi...</td>\n",
       "    </tr>\n",
       "    <tr>\n",
       "      <th>16</th>\n",
       "      <td>3</td>\n",
       "      <td>first one came in damaged ok bed for the price</td>\n",
       "    </tr>\n",
       "    <tr>\n",
       "      <th>17</th>\n",
       "      <td>4</td>\n",
       "      <td>good deal to get a nice chair for study in a l...</td>\n",
       "    </tr>\n",
       "    <tr>\n",
       "      <th>18</th>\n",
       "      <td>5</td>\n",
       "      <td>comfortable and easy to fix</td>\n",
       "    </tr>\n",
       "    <tr>\n",
       "      <th>19</th>\n",
       "      <td>5</td>\n",
       "      <td>as advertised very comfortable great color pro...</td>\n",
       "    </tr>\n",
       "    <tr>\n",
       "      <th>20</th>\n",
       "      <td>5</td>\n",
       "      <td>very nice rug for a reasonable price exceeded ...</td>\n",
       "    </tr>\n",
       "    <tr>\n",
       "      <th>21</th>\n",
       "      <td>5</td>\n",
       "      <td>product was as described delivered on time ove...</td>\n",
       "    </tr>\n",
       "    <tr>\n",
       "      <th>22</th>\n",
       "      <td>3</td>\n",
       "      <td>functional but too lightweight  i ordered 2 an...</td>\n",
       "    </tr>\n",
       "    <tr>\n",
       "      <th>23</th>\n",
       "      <td>5</td>\n",
       "      <td>i love these stools perfect for a toddler i ha...</td>\n",
       "    </tr>\n",
       "    <tr>\n",
       "      <th>24</th>\n",
       "      <td>5</td>\n",
       "      <td>so comfortable</td>\n",
       "    </tr>\n",
       "    <tr>\n",
       "      <th>25</th>\n",
       "      <td>5</td>\n",
       "      <td>love it easy assembly and nice quality  great ...</td>\n",
       "    </tr>\n",
       "    <tr>\n",
       "      <th>26</th>\n",
       "      <td>5</td>\n",
       "      <td>these rescued  my sons bed from the floor was ...</td>\n",
       "    </tr>\n",
       "    <tr>\n",
       "      <th>27</th>\n",
       "      <td>5</td>\n",
       "      <td>replacement for the one in rv that had a blow ...</td>\n",
       "    </tr>\n",
       "    <tr>\n",
       "      <th>28</th>\n",
       "      <td>2</td>\n",
       "      <td>not for every day use support leg underneath b...</td>\n",
       "    </tr>\n",
       "    <tr>\n",
       "      <th>29</th>\n",
       "      <td>1</td>\n",
       "      <td>saggy mattress</td>\n",
       "    </tr>\n",
       "    <tr>\n",
       "      <th>...</th>\n",
       "      <td>...</td>\n",
       "      <td>...</td>\n",
       "    </tr>\n",
       "    <tr>\n",
       "      <th>792083</th>\n",
       "      <td>4</td>\n",
       "      <td>i was surprised by the amount of papers and st...</td>\n",
       "    </tr>\n",
       "    <tr>\n",
       "      <th>792084</th>\n",
       "      <td>3</td>\n",
       "      <td>i like the cover - this is why i choose it to ...</td>\n",
       "    </tr>\n",
       "    <tr>\n",
       "      <th>792085</th>\n",
       "      <td>4</td>\n",
       "      <td>i was surprised by the amount of papers and st...</td>\n",
       "    </tr>\n",
       "    <tr>\n",
       "      <th>792086</th>\n",
       "      <td>5</td>\n",
       "      <td>i have five of them. they are exceptionally st...</td>\n",
       "    </tr>\n",
       "    <tr>\n",
       "      <th>792087</th>\n",
       "      <td>4</td>\n",
       "      <td>i like this lamp.  i did find the ad a little ...</td>\n",
       "    </tr>\n",
       "    <tr>\n",
       "      <th>792088</th>\n",
       "      <td>5</td>\n",
       "      <td>i love the bargain in this kit.  the price can...</td>\n",
       "    </tr>\n",
       "    <tr>\n",
       "      <th>792089</th>\n",
       "      <td>5</td>\n",
       "      <td>i am very pleased with this pot rack. i origin...</td>\n",
       "    </tr>\n",
       "    <tr>\n",
       "      <th>792090</th>\n",
       "      <td>5</td>\n",
       "      <td>i have a dozen albums, none of them labelled. ...</td>\n",
       "    </tr>\n",
       "    <tr>\n",
       "      <th>792091</th>\n",
       "      <td>5</td>\n",
       "      <td>this redesigned calphalon 32-inch straight wal...</td>\n",
       "    </tr>\n",
       "    <tr>\n",
       "      <th>792092</th>\n",
       "      <td>5</td>\n",
       "      <td>i have this set and found it so beautiful that...</td>\n",
       "    </tr>\n",
       "    <tr>\n",
       "      <th>792093</th>\n",
       "      <td>3</td>\n",
       "      <td>its a nice looking book but feels flimsy. also...</td>\n",
       "    </tr>\n",
       "    <tr>\n",
       "      <th>792094</th>\n",
       "      <td>3</td>\n",
       "      <td>its a nice looking book but feels flimsy. also...</td>\n",
       "    </tr>\n",
       "    <tr>\n",
       "      <th>792095</th>\n",
       "      <td>5</td>\n",
       "      <td>i have been searching for an album like this f...</td>\n",
       "    </tr>\n",
       "    <tr>\n",
       "      <th>792096</th>\n",
       "      <td>5</td>\n",
       "      <td>after 8 years of use the only thing wrong with...</td>\n",
       "    </tr>\n",
       "    <tr>\n",
       "      <th>792097</th>\n",
       "      <td>5</td>\n",
       "      <td>this is a great photo album, especially for th...</td>\n",
       "    </tr>\n",
       "    <tr>\n",
       "      <th>792098</th>\n",
       "      <td>5</td>\n",
       "      <td>this le creuset 1-quart poterie crock is so st...</td>\n",
       "    </tr>\n",
       "    <tr>\n",
       "      <th>792099</th>\n",
       "      <td>5</td>\n",
       "      <td>when was the last time you were sitting on you...</td>\n",
       "    </tr>\n",
       "    <tr>\n",
       "      <th>792100</th>\n",
       "      <td>4</td>\n",
       "      <td>this is a photo albumn for the man in your chi...</td>\n",
       "    </tr>\n",
       "    <tr>\n",
       "      <th>792101</th>\n",
       "      <td>5</td>\n",
       "      <td>i needed to find room for all of my pots and p...</td>\n",
       "    </tr>\n",
       "    <tr>\n",
       "      <th>792102</th>\n",
       "      <td>5</td>\n",
       "      <td>this is one of my favorite things i own all ki...</td>\n",
       "    </tr>\n",
       "    <tr>\n",
       "      <th>792103</th>\n",
       "      <td>5</td>\n",
       "      <td>this is one of my favorite things i own all ki...</td>\n",
       "    </tr>\n",
       "    <tr>\n",
       "      <th>792104</th>\n",
       "      <td>5</td>\n",
       "      <td>this is one of my favorite things i own all ki...</td>\n",
       "    </tr>\n",
       "    <tr>\n",
       "      <th>792105</th>\n",
       "      <td>5</td>\n",
       "      <td>...and do absolutely nothing but sit on your c...</td>\n",
       "    </tr>\n",
       "    <tr>\n",
       "      <th>792106</th>\n",
       "      <td>5</td>\n",
       "      <td>it's a cute album, which holds 36 photos up to...</td>\n",
       "    </tr>\n",
       "    <tr>\n",
       "      <th>792107</th>\n",
       "      <td>5</td>\n",
       "      <td>it's a cute album, which holds 36 photos up to...</td>\n",
       "    </tr>\n",
       "    <tr>\n",
       "      <th>792108</th>\n",
       "      <td>5</td>\n",
       "      <td>i sort of collect water fountains and most hav...</td>\n",
       "    </tr>\n",
       "    <tr>\n",
       "      <th>792109</th>\n",
       "      <td>5</td>\n",
       "      <td>i just got my lava lamp 2 days ago and i just ...</td>\n",
       "    </tr>\n",
       "    <tr>\n",
       "      <th>792110</th>\n",
       "      <td>5</td>\n",
       "      <td>this is similar to other mag-lites, except in ...</td>\n",
       "    </tr>\n",
       "    <tr>\n",
       "      <th>792111</th>\n",
       "      <td>4</td>\n",
       "      <td>i purchased this little pot as a gift for a fr...</td>\n",
       "    </tr>\n",
       "    <tr>\n",
       "      <th>792112</th>\n",
       "      <td>5</td>\n",
       "      <td>my son and i both loves these!  this toy is ex...</td>\n",
       "    </tr>\n",
       "  </tbody>\n",
       "</table>\n",
       "<p>791976 rows × 2 columns</p>\n",
       "</div>"
      ],
      "text/plain": [
       "        star_rating                                        review_body\n",
       "0                 4  this desk is very study and it i has  a beauti...\n",
       "1                 5                                         great item\n",
       "2                 5  perfect fit for my bedroom been wanting one si...\n",
       "3                 3  we use this on a trundle bed  so it does not g...\n",
       "4                 3  the product is finejust seemed like it took aw...\n",
       "...             ...                                                ...\n",
       "792108            5  i sort of collect water fountains and most hav...\n",
       "792109            5  i just got my lava lamp 2 days ago and i just ...\n",
       "792110            5  this is similar to other mag-lites, except in ...\n",
       "792111            4  i purchased this little pot as a gift for a fr...\n",
       "792112            5  my son and i both loves these!  this toy is ex...\n",
       "\n",
       "[791976 rows x 2 columns]"
      ]
     },
     "execution_count": 126,
     "metadata": {},
     "output_type": "execute_result"
    }
   ],
   "source": [
    "df1"
   ]
  },
  {
   "cell_type": "code",
   "execution_count": 127,
   "metadata": {},
   "outputs": [
    {
     "data": {
      "text/plain": [
       "5    447630\n",
       "4    153648\n",
       "3     73555\n",
       "1     73303\n",
       "2     43840\n",
       "Name: star_rating, dtype: int64"
      ]
     },
     "execution_count": 127,
     "metadata": {},
     "output_type": "execute_result"
    }
   ],
   "source": [
    "df1['star_rating'].value_counts()"
   ]
  },
  {
   "cell_type": "code",
   "execution_count": 139,
   "metadata": {},
   "outputs": [],
   "source": [
    "df1 = df1.dropna()"
   ]
  },
  {
   "cell_type": "code",
   "execution_count": null,
   "metadata": {},
   "outputs": [],
   "source": []
  },
  {
   "cell_type": "code",
   "execution_count": 140,
   "metadata": {},
   "outputs": [
    {
     "data": {
      "text/plain": [
       "0         this desk is very study and it i has  a beauti...\n",
       "1                                                great item\n",
       "2         perfect fit for my bedroom been wanting one si...\n",
       "3         we use this on a trundle bed  so it does not g...\n",
       "4         the product is finejust seemed like it took aw...\n",
       "                                ...                        \n",
       "792108    i sort of collect water fountains and most hav...\n",
       "792109    i just got my lava lamp 2 days ago and i just ...\n",
       "792110    this is similar to other mag-lites, except in ...\n",
       "792111    i purchased this little pot as a gift for a fr...\n",
       "792112    my son and i both loves these!  this toy is ex...\n",
       "Name: review_body, Length: 791976, dtype: object"
      ]
     },
     "execution_count": 140,
     "metadata": {},
     "output_type": "execute_result"
    }
   ],
   "source": [
    "df1['review_body']"
   ]
  },
  {
   "cell_type": "code",
   "execution_count": null,
   "metadata": {},
   "outputs": [],
   "source": []
  },
  {
   "cell_type": "code",
   "execution_count": 169,
   "metadata": {},
   "outputs": [],
   "source": [
    "X = df1['review_body']\n",
    "y = df1['star_rating']"
   ]
  },
  {
   "cell_type": "code",
   "execution_count": 170,
   "metadata": {},
   "outputs": [],
   "source": [
    "X = X.values.reshape(-1, 1)"
   ]
  },
  {
   "cell_type": "markdown",
   "metadata": {},
   "source": [
    "#### Handle imbalanced dataset"
   ]
  },
  {
   "cell_type": "code",
   "execution_count": 172,
   "metadata": {},
   "outputs": [
    {
     "data": {
      "image/png": "[encoded data removed]",
      "text/plain": [
       "<Figure size 432x288 with 1 Axes>"
      ]
     },
     "metadata": {
      "needs_background": "light"
     },
     "output_type": "display_data"
    }
   ],
   "source": [
    "from imblearn.under_sampling import RandomUnderSampler \n",
    "\n",
    "rus = RandomUnderSampler()\n",
    "X_sampled, y_sampled = rus.fit_resample(X, y)\n",
    "\n",
    "plt.hist(y_sampled)\n",
    "plt.ylabel('No of items')\n",
    "plt.show()"
   ]
  },
  {
   "cell_type": "code",
   "execution_count": 201,
   "metadata": {},
   "outputs": [],
   "source": [
    "df2= pd.DataFrame(X_sampled, columns=['reviews'])"
   ]
  },
  {
   "cell_type": "code",
   "execution_count": 203,
   "metadata": {},
   "outputs": [],
   "source": [
    "df2['star_rating'] = y_sampled"
   ]
  },
  {
   "cell_type": "code",
   "execution_count": 205,
   "metadata": {},
   "outputs": [
    {
     "data": {
      "text/html": [
       "<div>\n",
       "<style scoped>\n",
       "    .dataframe tbody tr th:only-of-type {\n",
       "        vertical-align: middle;\n",
       "    }\n",
       "\n",
       "    .dataframe tbody tr th {\n",
       "        vertical-align: top;\n",
       "    }\n",
       "\n",
       "    .dataframe thead th {\n",
       "        text-align: right;\n",
       "    }\n",
       "</style>\n",
       "<table border=\"1\" class=\"dataframe\">\n",
       "  <thead>\n",
       "    <tr style=\"text-align: right;\">\n",
       "      <th></th>\n",
       "      <th>reviews</th>\n",
       "      <th>star_rating</th>\n",
       "    </tr>\n",
       "  </thead>\n",
       "  <tbody>\n",
       "    <tr>\n",
       "      <th>0</th>\n",
       "      <td>when i received these tray tables, the faux ma...</td>\n",
       "      <td>1</td>\n",
       "    </tr>\n",
       "    <tr>\n",
       "      <th>1</th>\n",
       "      <td>i wanted the espresso, but seem to have ordere...</td>\n",
       "      <td>1</td>\n",
       "    </tr>\n",
       "    <tr>\n",
       "      <th>2</th>\n",
       "      <td>i actually ordered 2 of these.  the 1st shelf ...</td>\n",
       "      <td>1</td>\n",
       "    </tr>\n",
       "    <tr>\n",
       "      <th>3</th>\n",
       "      <td>omg....the worst item i have ever purchased on...</td>\n",
       "      <td>1</td>\n",
       "    </tr>\n",
       "    <tr>\n",
       "      <th>4</th>\n",
       "      <td>firt off this is a terrible product. i bought ...</td>\n",
       "      <td>1</td>\n",
       "    </tr>\n",
       "    <tr>\n",
       "      <th>5</th>\n",
       "      <td>compleate piece of junk! do not waste your mon...</td>\n",
       "      <td>1</td>\n",
       "    </tr>\n",
       "    <tr>\n",
       "      <th>6</th>\n",
       "      <td>does not work....</td>\n",
       "      <td>1</td>\n",
       "    </tr>\n",
       "    <tr>\n",
       "      <th>7</th>\n",
       "      <td>overpriced for chinese manufactured product. b...</td>\n",
       "      <td>1</td>\n",
       "    </tr>\n",
       "    <tr>\n",
       "      <th>8</th>\n",
       "      <td>assembly wasn't bad. however after using the c...</td>\n",
       "      <td>1</td>\n",
       "    </tr>\n",
       "    <tr>\n",
       "      <th>9</th>\n",
       "      <td>looks nice but falls right apart! would have r...</td>\n",
       "      <td>1</td>\n",
       "    </tr>\n",
       "    <tr>\n",
       "      <th>10</th>\n",
       "      <td>the product comes with no pre-drilled screw ho...</td>\n",
       "      <td>1</td>\n",
       "    </tr>\n",
       "    <tr>\n",
       "      <th>11</th>\n",
       "      <td>i would not recommend this product.&lt;br /&gt;the h...</td>\n",
       "      <td>1</td>\n",
       "    </tr>\n",
       "    <tr>\n",
       "      <th>12</th>\n",
       "      <td>i wanted to upgrade from our traditional mattr...</td>\n",
       "      <td>1</td>\n",
       "    </tr>\n",
       "    <tr>\n",
       "      <th>13</th>\n",
       "      <td>okay... first off... i was really looking forw...</td>\n",
       "      <td>1</td>\n",
       "    </tr>\n",
       "    <tr>\n",
       "      <th>14</th>\n",
       "      <td>the dresser is made of sturdy material and loo...</td>\n",
       "      <td>1</td>\n",
       "    </tr>\n",
       "    <tr>\n",
       "      <th>15</th>\n",
       "      <td>this is shoddy at best. looks cheap. the shelv...</td>\n",
       "      <td>1</td>\n",
       "    </tr>\n",
       "    <tr>\n",
       "      <th>16</th>\n",
       "      <td>it's like sleeping on cardboard. it's concave ...</td>\n",
       "      <td>1</td>\n",
       "    </tr>\n",
       "    <tr>\n",
       "      <th>17</th>\n",
       "      <td>was a used ítem. could tell by the scratched a...</td>\n",
       "      <td>1</td>\n",
       "    </tr>\n",
       "    <tr>\n",
       "      <th>18</th>\n",
       "      <td>should be advertised as an outdoor rug.  very ...</td>\n",
       "      <td>1</td>\n",
       "    </tr>\n",
       "    <tr>\n",
       "      <th>19</th>\n",
       "      <td>i was really excited when i found this at targ...</td>\n",
       "      <td>1</td>\n",
       "    </tr>\n",
       "    <tr>\n",
       "      <th>20</th>\n",
       "      <td>i have not purchased one of these, but i belie...</td>\n",
       "      <td>1</td>\n",
       "    </tr>\n",
       "    <tr>\n",
       "      <th>21</th>\n",
       "      <td>first i thought i was getting the color that w...</td>\n",
       "      <td>1</td>\n",
       "    </tr>\n",
       "    <tr>\n",
       "      <th>22</th>\n",
       "      <td>a major fail for coaster. i love coaster furni...</td>\n",
       "      <td>1</td>\n",
       "    </tr>\n",
       "    <tr>\n",
       "      <th>23</th>\n",
       "      <td>upon opening the package, the wooden post was ...</td>\n",
       "      <td>1</td>\n",
       "    </tr>\n",
       "    <tr>\n",
       "      <th>24</th>\n",
       "      <td>none of the bolt holes line up, hard to adjust...</td>\n",
       "      <td>1</td>\n",
       "    </tr>\n",
       "    <tr>\n",
       "      <th>25</th>\n",
       "      <td>i've had better ones that i got at wat mart fo...</td>\n",
       "      <td>1</td>\n",
       "    </tr>\n",
       "    <tr>\n",
       "      <th>26</th>\n",
       "      <td>bought this side table as my husband is disabl...</td>\n",
       "      <td>1</td>\n",
       "    </tr>\n",
       "    <tr>\n",
       "      <th>27</th>\n",
       "      <td>i put 5 wheels in it and in only a few minutes...</td>\n",
       "      <td>1</td>\n",
       "    </tr>\n",
       "    <tr>\n",
       "      <th>28</th>\n",
       "      <td>next time i'll pay more money for better quali...</td>\n",
       "      <td>1</td>\n",
       "    </tr>\n",
       "    <tr>\n",
       "      <th>29</th>\n",
       "      <td>i would not purchase this again. after less th...</td>\n",
       "      <td>1</td>\n",
       "    </tr>\n",
       "    <tr>\n",
       "      <th>...</th>\n",
       "      <td>...</td>\n",
       "      <td>...</td>\n",
       "    </tr>\n",
       "    <tr>\n",
       "      <th>219170</th>\n",
       "      <td>item arrived very quickly, was easy to assembl...</td>\n",
       "      <td>5</td>\n",
       "    </tr>\n",
       "    <tr>\n",
       "      <th>219171</th>\n",
       "      <td>looks great in our room. we hung up a canopy o...</td>\n",
       "      <td>5</td>\n",
       "    </tr>\n",
       "    <tr>\n",
       "      <th>219172</th>\n",
       "      <td>shipped as noted and came packaged as expected...</td>\n",
       "      <td>5</td>\n",
       "    </tr>\n",
       "    <tr>\n",
       "      <th>219173</th>\n",
       "      <td>love this, just ordered a second one!</td>\n",
       "      <td>5</td>\n",
       "    </tr>\n",
       "    <tr>\n",
       "      <th>219174</th>\n",
       "      <td>what's not to love about this store and it's p...</td>\n",
       "      <td>5</td>\n",
       "    </tr>\n",
       "    <tr>\n",
       "      <th>219175</th>\n",
       "      <td>when we first opened the box, we were afraid i...</td>\n",
       "      <td>5</td>\n",
       "    </tr>\n",
       "    <tr>\n",
       "      <th>219176</th>\n",
       "      <td>i really like this rug.  beautiful woven patte...</td>\n",
       "      <td>5</td>\n",
       "    </tr>\n",
       "    <tr>\n",
       "      <th>219177</th>\n",
       "      <td>great product, decent quality for inexpensive ...</td>\n",
       "      <td>5</td>\n",
       "    </tr>\n",
       "    <tr>\n",
       "      <th>219178</th>\n",
       "      <td>piece of cake putting this together.  it's all...</td>\n",
       "      <td>5</td>\n",
       "    </tr>\n",
       "    <tr>\n",
       "      <th>219179</th>\n",
       "      <td>i bought this product to restore an old rockin...</td>\n",
       "      <td>5</td>\n",
       "    </tr>\n",
       "    <tr>\n",
       "      <th>219180</th>\n",
       "      <td>we were very happy to receive our furniture in...</td>\n",
       "      <td>5</td>\n",
       "    </tr>\n",
       "    <tr>\n",
       "      <th>219181</th>\n",
       "      <td>very sturdy....great price and the rug is the ...</td>\n",
       "      <td>5</td>\n",
       "    </tr>\n",
       "    <tr>\n",
       "      <th>219182</th>\n",
       "      <td>perfect addition for the matching sofa. with t...</td>\n",
       "      <td>5</td>\n",
       "    </tr>\n",
       "    <tr>\n",
       "      <th>219183</th>\n",
       "      <td>the whole experience could not have been easie...</td>\n",
       "      <td>5</td>\n",
       "    </tr>\n",
       "    <tr>\n",
       "      <th>219184</th>\n",
       "      <td>im giving this as a gift there dad ran ships f...</td>\n",
       "      <td>5</td>\n",
       "    </tr>\n",
       "    <tr>\n",
       "      <th>219185</th>\n",
       "      <td>fell in love with this cabinet and got it for ...</td>\n",
       "      <td>5</td>\n",
       "    </tr>\n",
       "    <tr>\n",
       "      <th>219186</th>\n",
       "      <td>this table is better than expected:  solid and...</td>\n",
       "      <td>5</td>\n",
       "    </tr>\n",
       "    <tr>\n",
       "      <th>219187</th>\n",
       "      <td>loved it!!!</td>\n",
       "      <td>5</td>\n",
       "    </tr>\n",
       "    <tr>\n",
       "      <th>219188</th>\n",
       "      <td>i really enjoy this rug.  it is very thick and...</td>\n",
       "      <td>5</td>\n",
       "    </tr>\n",
       "    <tr>\n",
       "      <th>219189</th>\n",
       "      <td>our 4 year old grand son is so very happy with...</td>\n",
       "      <td>5</td>\n",
       "    </tr>\n",
       "    <tr>\n",
       "      <th>219190</th>\n",
       "      <td>great product. filled quart jar with 4 votives...</td>\n",
       "      <td>5</td>\n",
       "    </tr>\n",
       "    <tr>\n",
       "      <th>219191</th>\n",
       "      <td>very easy to put together and exceptionally st...</td>\n",
       "      <td>5</td>\n",
       "    </tr>\n",
       "    <tr>\n",
       "      <th>219192</th>\n",
       "      <td>[[videoid:mo39dmsbdsv9z3q]]if you work in an o...</td>\n",
       "      <td>5</td>\n",
       "    </tr>\n",
       "    <tr>\n",
       "      <th>219193</th>\n",
       "      <td>got this for my son, he loves it.  the paint/f...</td>\n",
       "      <td>5</td>\n",
       "    </tr>\n",
       "    <tr>\n",
       "      <th>219194</th>\n",
       "      <td>i love this bed. looks really nice and was gre...</td>\n",
       "      <td>5</td>\n",
       "    </tr>\n",
       "    <tr>\n",
       "      <th>219195</th>\n",
       "      <td>this is a great product! it was used it for a ...</td>\n",
       "      <td>5</td>\n",
       "    </tr>\n",
       "    <tr>\n",
       "      <th>219196</th>\n",
       "      <td>my wife is in love again, fortunately i get to...</td>\n",
       "      <td>5</td>\n",
       "    </tr>\n",
       "    <tr>\n",
       "      <th>219197</th>\n",
       "      <td>very convenient for small places. it is also v...</td>\n",
       "      <td>5</td>\n",
       "    </tr>\n",
       "    <tr>\n",
       "      <th>219198</th>\n",
       "      <td>i wanted to get something that i could store m...</td>\n",
       "      <td>5</td>\n",
       "    </tr>\n",
       "    <tr>\n",
       "      <th>219199</th>\n",
       "      <td>i've never written a review before but this be...</td>\n",
       "      <td>5</td>\n",
       "    </tr>\n",
       "  </tbody>\n",
       "</table>\n",
       "<p>219200 rows × 2 columns</p>\n",
       "</div>"
      ],
      "text/plain": [
       "                                                  reviews  star_rating\n",
       "0       when i received these tray tables, the faux ma...            1\n",
       "1       i wanted the espresso, but seem to have ordere...            1\n",
       "2       i actually ordered 2 of these.  the 1st shelf ...            1\n",
       "3       omg....the worst item i have ever purchased on...            1\n",
       "4       firt off this is a terrible product. i bought ...            1\n",
       "...                                                   ...          ...\n",
       "219195  this is a great product! it was used it for a ...            5\n",
       "219196  my wife is in love again, fortunately i get to...            5\n",
       "219197  very convenient for small places. it is also v...            5\n",
       "219198  i wanted to get something that i could store m...            5\n",
       "219199  i've never written a review before but this be...            5\n",
       "\n",
       "[219200 rows x 2 columns]"
      ]
     },
     "execution_count": 205,
     "metadata": {},
     "output_type": "execute_result"
    }
   ],
   "source": [
    "df2"
   ]
  },
  {
   "cell_type": "code",
   "execution_count": 196,
   "metadata": {},
   "outputs": [
    {
     "data": {
      "text/plain": [
       "Text(0.5, 0, 'Star Ratings')"
      ]
     },
     "execution_count": 196,
     "metadata": {},
     "output_type": "execute_result"
    },
    {
     "data": {
      "image/png": "[encoded data removed]",
      "text/plain": [
       "<Figure size 432x288 with 1 Axes>"
      ]
     },
     "metadata": {
      "needs_background": "light"
     },
     "output_type": "display_data"
    }
   ],
   "source": [
    "sns.countplot(x = 'star_rating', data = df2)\n",
    "plt.xlabel('Star Ratings')"
   ]
  },
  {
   "cell_type": "code",
   "execution_count": null,
   "metadata": {},
   "outputs": [],
   "source": []
  },
  {
   "cell_type": "code",
   "execution_count": 207,
   "metadata": {},
   "outputs": [],
   "source": [
    "# df2"
   ]
  },
  {
   "cell_type": "code",
   "execution_count": 215,
   "metadata": {},
   "outputs": [],
   "source": [
    "from nltk.stem.snowball import SnowballStemmer\n",
    "from nltk.tokenize import RegexpTokenizer\n",
    "\n",
    "stemmer = SnowballStemmer(\"english\")\n",
    "tokenizer = RegexpTokenizer(\"[a-z']+\")"
   ]
  },
  {
   "cell_type": "code",
   "execution_count": 216,
   "metadata": {},
   "outputs": [],
   "source": [
    "def tokenize(text):\n",
    "    tokens = tokenizer.tokenize(text)\n",
    "    return [stemmer.stem(t) for t in tokens] "
   ]
  },
  {
   "cell_type": "markdown",
   "metadata": {},
   "source": [
    "### Using TFIDF"
   ]
  },
  {
   "cell_type": "code",
   "execution_count": 222,
   "metadata": {},
   "outputs": [
    {
     "name": "stderr",
     "output_type": "stream",
     "text": [
      "/opt/tljh/user/lib/python3.6/site-packages/sklearn/feature_extraction/text.py:300: UserWarning: Your stop_words may be inconsistent with your preprocessing. Tokenizing the stop words generated tokens ['abov', 'afterward', 'alon', 'alreadi', 'alway', 'ani', 'anoth', 'anyon', 'anyth', 'anywher', 'becam', 'becaus', 'becom', 'befor', 'besid', 'cri', 'describ', 'dure', 'els', 'elsewher', 'empti', 'everi', 'everyon', 'everyth', 'everywher', 'fifti', 'forti', 'henc', 'hereaft', 'herebi', 'howev', 'hundr', 'inde', 'mani', 'meanwhil', 'moreov', 'nobodi', 'noon', 'noth', 'nowher', 'onc', 'onli', 'otherwis', 'ourselv', 'perhap', 'pleas', 'sever', 'sinc', 'sincer', 'sixti', 'someon', 'someth', 'sometim', 'somewher', 'themselv', 'thenc', 'thereaft', 'therebi', 'therefor', 'togeth', 'twelv', 'twenti', 'veri', 'whatev', 'whenc', 'whenev', 'wherea', 'whereaft', 'wherebi', 'wherev', 'whi', 'yourselv'] not in stop_words.\n",
      "  'stop_words.' % sorted(inconsistent))\n"
     ]
    }
   ],
   "source": [
    "from sklearn.feature_extraction.text import TfidfVectorizer, CountVectorizer\n",
    "\n",
    "tfidf_vectorizer = TfidfVectorizer(stop_words='english', tokenizer=tokenize)\n",
    "X_tfidf = tfidf_vectorizer.fit_transform(df2['reviews'])\n",
    "\n"
   ]
  },
  {
   "cell_type": "markdown",
   "metadata": {},
   "source": [
    "#### Split dataset"
   ]
  },
  {
   "cell_type": "code",
   "execution_count": 223,
   "metadata": {},
   "outputs": [],
   "source": [
    "from sklearn.model_selection import train_test_split\n",
    "X_train, X_test, y_train, y_test = train_test_split(X_tfidf, y_sampled, test_size = 0.2)\n"
   ]
  },
  {
   "cell_type": "markdown",
   "metadata": {},
   "source": [
    "#### Logistic Regression"
   ]
  },
  {
   "cell_type": "code",
   "execution_count": 224,
   "metadata": {},
   "outputs": [
    {
     "name": "stderr",
     "output_type": "stream",
     "text": [
      "/opt/tljh/user/lib/python3.6/site-packages/sklearn/linear_model/logistic.py:432: FutureWarning: Default solver will be changed to 'lbfgs' in 0.22. Specify a solver to silence this warning.\n",
      "  FutureWarning)\n",
      "/opt/tljh/user/lib/python3.6/site-packages/sklearn/linear_model/logistic.py:469: FutureWarning: Default multi_class will be changed to 'auto' in 0.22. Specify the multi_class option to silence this warning.\n",
      "  \"this warning.\", FutureWarning)\n"
     ]
    },
    {
     "data": {
      "text/plain": [
       "LogisticRegression(C=1.0, class_weight=None, dual=False, fit_intercept=True,\n",
       "                   intercept_scaling=1, l1_ratio=None, max_iter=100,\n",
       "                   multi_class='warn', n_jobs=None, penalty='l2',\n",
       "                   random_state=None, solver='warn', tol=0.0001, verbose=0,\n",
       "                   warm_start=False)"
      ]
     },
     "execution_count": 224,
     "metadata": {},
     "output_type": "execute_result"
    }
   ],
   "source": [
    "from sklearn.linear_model import LogisticRegression\n",
    "logreg = LogisticRegression()\n",
    "logreg.fit(X_train, y_train)"
   ]
  },
  {
   "cell_type": "code",
   "execution_count": 235,
   "metadata": {},
   "outputs": [
    {
     "name": "stdout",
     "output_type": "stream",
     "text": [
      "              precision    recall  f1-score   support\n",
      "\n",
      "           1       0.66      0.74      0.70      8760\n",
      "           2       0.46      0.44      0.45      8662\n",
      "           3       0.44      0.39      0.41      8717\n",
      "           4       0.49      0.44      0.46      8847\n",
      "           5       0.63      0.73      0.68      8854\n",
      "\n",
      "    accuracy                           0.55     43840\n",
      "   macro avg       0.54      0.55      0.54     43840\n",
      "weighted avg       0.54      0.55      0.54     43840\n",
      "\n"
     ]
    }
   ],
   "source": [
    "from sklearn import metrics\n",
    "\n",
    "predicted = logreg.predict(X_test)\n",
    "\n",
    "print(metrics.classification_report(y_test, predicted))"
   ]
  },
  {
   "cell_type": "markdown",
   "metadata": {},
   "source": [
    "#### Naive Bayes"
   ]
  },
  {
   "cell_type": "code",
   "execution_count": 238,
   "metadata": {},
   "outputs": [
    {
     "name": "stdout",
     "output_type": "stream",
     "text": [
      "              precision    recall  f1-score   support\n",
      "\n",
      "           1       0.70      0.63      0.66      8760\n",
      "           2       0.43      0.48      0.46      8662\n",
      "           3       0.42      0.40      0.41      8717\n",
      "           4       0.45      0.45      0.45      8847\n",
      "           5       0.64      0.65      0.64      8854\n",
      "\n",
      "    accuracy                           0.52     43840\n",
      "   macro avg       0.53      0.52      0.52     43840\n",
      "weighted avg       0.53      0.52      0.53     43840\n",
      "\n"
     ]
    }
   ],
   "source": [
    "from sklearn.naive_bayes import MultinomialNB\n",
    "\n",
    "classifier_nb = MultinomialNB()\n",
    "classifier_nb.fit(X_train, y_train)\n",
    "\n",
    "predicted = classifier_nb.predict(X_test)\n",
    "\n",
    "print(metrics.classification_report(y_test, predicted))"
   ]
  },
  {
   "cell_type": "markdown",
   "metadata": {},
   "source": [
    "### Using CountVectorizer"
   ]
  },
  {
   "cell_type": "code",
   "execution_count": 239,
   "metadata": {},
   "outputs": [
    {
     "name": "stderr",
     "output_type": "stream",
     "text": [
      "/opt/tljh/user/lib/python3.6/site-packages/sklearn/feature_extraction/text.py:300: UserWarning: Your stop_words may be inconsistent with your preprocessing. Tokenizing the stop words generated tokens ['abov', 'afterward', 'alon', 'alreadi', 'alway', 'ani', 'anoth', 'anyon', 'anyth', 'anywher', 'becam', 'becaus', 'becom', 'befor', 'besid', 'cri', 'describ', 'dure', 'els', 'elsewher', 'empti', 'everi', 'everyon', 'everyth', 'everywher', 'fifti', 'forti', 'henc', 'hereaft', 'herebi', 'howev', 'hundr', 'inde', 'mani', 'meanwhil', 'moreov', 'nobodi', 'noon', 'noth', 'nowher', 'onc', 'onli', 'otherwis', 'ourselv', 'perhap', 'pleas', 'sever', 'sinc', 'sincer', 'sixti', 'someon', 'someth', 'sometim', 'somewher', 'themselv', 'thenc', 'thereaft', 'therebi', 'therefor', 'togeth', 'twelv', 'twenti', 'veri', 'whatev', 'whenc', 'whenev', 'wherea', 'whereaft', 'wherebi', 'wherev', 'whi', 'yourselv'] not in stop_words.\n",
      "  'stop_words.' % sorted(inconsistent))\n"
     ]
    }
   ],
   "source": [
    "count_vectorizer = CountVectorizer(stop_words='english', tokenizer=tokenize)\n",
    "X_count = count_vectorizer.fit_transform(df2['reviews'])"
   ]
  },
  {
   "cell_type": "code",
   "execution_count": 240,
   "metadata": {},
   "outputs": [],
   "source": [
    "from sklearn.model_selection import train_test_split\n",
    "X_train, X_test, y_train, y_test = train_test_split(X_count, y_sampled, test_size = 0.2)\n"
   ]
  },
  {
   "cell_type": "code",
   "execution_count": 242,
   "metadata": {},
   "outputs": [],
   "source": [
    "# from sklearn.linear_model import LogisticRegression\n",
    "# logreg = LogisticRegression()\n",
    "# logreg.fit(X_train, y_train)"
   ]
  },
  {
   "cell_type": "code",
   "execution_count": 243,
   "metadata": {},
   "outputs": [],
   "source": [
    "# from sklearn import metrics\n",
    "\n",
    "# predicted = logreg.predict(X_test)\n",
    "\n",
    "# print(metrics.classification_report(y_test, predicted))"
   ]
  },
  {
   "cell_type": "markdown",
   "metadata": {},
   "source": [
    "### Get most common words"
   ]
  },
  {
   "cell_type": "code",
   "execution_count": 312,
   "metadata": {},
   "outputs": [],
   "source": [
    "df_positive = df2[df2['star_rating']==5]\n",
    "\n",
    "df_negative = df2[df2['star_rating']==1]\n"
   ]
  },
  {
   "cell_type": "code",
   "execution_count": 313,
   "metadata": {},
   "outputs": [
    {
     "data": {
      "text/html": [
       "<div>\n",
       "<style scoped>\n",
       "    .dataframe tbody tr th:only-of-type {\n",
       "        vertical-align: middle;\n",
       "    }\n",
       "\n",
       "    .dataframe tbody tr th {\n",
       "        vertical-align: top;\n",
       "    }\n",
       "\n",
       "    .dataframe thead th {\n",
       "        text-align: right;\n",
       "    }\n",
       "</style>\n",
       "<table border=\"1\" class=\"dataframe\">\n",
       "  <thead>\n",
       "    <tr style=\"text-align: right;\">\n",
       "      <th></th>\n",
       "      <th>reviews</th>\n",
       "      <th>star_rating</th>\n",
       "    </tr>\n",
       "  </thead>\n",
       "  <tbody>\n",
       "    <tr>\n",
       "      <th>0</th>\n",
       "      <td>when i received these tray tables the faux mar...</td>\n",
       "      <td>1</td>\n",
       "    </tr>\n",
       "    <tr>\n",
       "      <th>1</th>\n",
       "      <td>i wanted the espresso but seem to have ordered...</td>\n",
       "      <td>1</td>\n",
       "    </tr>\n",
       "    <tr>\n",
       "      <th>2</th>\n",
       "      <td>i actually ordered 2 of these  the 1st shelf l...</td>\n",
       "      <td>1</td>\n",
       "    </tr>\n",
       "    <tr>\n",
       "      <th>3</th>\n",
       "      <td>omgthe worst item i have ever purchased on ama...</td>\n",
       "      <td>1</td>\n",
       "    </tr>\n",
       "    <tr>\n",
       "      <th>4</th>\n",
       "      <td>firt off this is a terrible product i bought t...</td>\n",
       "      <td>1</td>\n",
       "    </tr>\n",
       "    <tr>\n",
       "      <th>5</th>\n",
       "      <td>compleate piece of junk do not waste your mone...</td>\n",
       "      <td>1</td>\n",
       "    </tr>\n",
       "    <tr>\n",
       "      <th>6</th>\n",
       "      <td>does not work</td>\n",
       "      <td>1</td>\n",
       "    </tr>\n",
       "    <tr>\n",
       "      <th>7</th>\n",
       "      <td>overpriced for chinese manufactured product ba...</td>\n",
       "      <td>1</td>\n",
       "    </tr>\n",
       "    <tr>\n",
       "      <th>8</th>\n",
       "      <td>assembly wasnt bad however after using the cha...</td>\n",
       "      <td>1</td>\n",
       "    </tr>\n",
       "    <tr>\n",
       "      <th>9</th>\n",
       "      <td>looks nice but falls right apart would have re...</td>\n",
       "      <td>1</td>\n",
       "    </tr>\n",
       "    <tr>\n",
       "      <th>10</th>\n",
       "      <td>the product comes with no predrilled screw hol...</td>\n",
       "      <td>1</td>\n",
       "    </tr>\n",
       "    <tr>\n",
       "      <th>11</th>\n",
       "      <td>i would not recommend this productbr the hinge...</td>\n",
       "      <td>1</td>\n",
       "    </tr>\n",
       "    <tr>\n",
       "      <th>12</th>\n",
       "      <td>i wanted to upgrade from our traditional mattr...</td>\n",
       "      <td>1</td>\n",
       "    </tr>\n",
       "    <tr>\n",
       "      <th>13</th>\n",
       "      <td>okay first off i was really looking forward to...</td>\n",
       "      <td>1</td>\n",
       "    </tr>\n",
       "    <tr>\n",
       "      <th>14</th>\n",
       "      <td>the dresser is made of sturdy material and loo...</td>\n",
       "      <td>1</td>\n",
       "    </tr>\n",
       "    <tr>\n",
       "      <th>15</th>\n",
       "      <td>this is shoddy at best looks cheap the shelves...</td>\n",
       "      <td>1</td>\n",
       "    </tr>\n",
       "    <tr>\n",
       "      <th>16</th>\n",
       "      <td>its like sleeping on cardboard its concave fro...</td>\n",
       "      <td>1</td>\n",
       "    </tr>\n",
       "    <tr>\n",
       "      <th>17</th>\n",
       "      <td>was a used ítem could tell by the scratched an...</td>\n",
       "      <td>1</td>\n",
       "    </tr>\n",
       "    <tr>\n",
       "      <th>18</th>\n",
       "      <td>should be advertised as an outdoor rug  very h...</td>\n",
       "      <td>1</td>\n",
       "    </tr>\n",
       "    <tr>\n",
       "      <th>19</th>\n",
       "      <td>i was really excited when i found this at targ...</td>\n",
       "      <td>1</td>\n",
       "    </tr>\n",
       "    <tr>\n",
       "      <th>20</th>\n",
       "      <td>i have not purchased one of these but i believ...</td>\n",
       "      <td>1</td>\n",
       "    </tr>\n",
       "    <tr>\n",
       "      <th>21</th>\n",
       "      <td>first i thought i was getting the color that w...</td>\n",
       "      <td>1</td>\n",
       "    </tr>\n",
       "    <tr>\n",
       "      <th>22</th>\n",
       "      <td>a major fail for coaster i love coaster furnit...</td>\n",
       "      <td>1</td>\n",
       "    </tr>\n",
       "    <tr>\n",
       "      <th>23</th>\n",
       "      <td>upon opening the package the wooden post was s...</td>\n",
       "      <td>1</td>\n",
       "    </tr>\n",
       "    <tr>\n",
       "      <th>24</th>\n",
       "      <td>none of the bolt holes line up hard to adjust ...</td>\n",
       "      <td>1</td>\n",
       "    </tr>\n",
       "    <tr>\n",
       "      <th>25</th>\n",
       "      <td>ive had better ones that i got at wat mart for...</td>\n",
       "      <td>1</td>\n",
       "    </tr>\n",
       "    <tr>\n",
       "      <th>26</th>\n",
       "      <td>bought this side table as my husband is disabl...</td>\n",
       "      <td>1</td>\n",
       "    </tr>\n",
       "    <tr>\n",
       "      <th>27</th>\n",
       "      <td>i put 5 wheels in it and in only a few minutes...</td>\n",
       "      <td>1</td>\n",
       "    </tr>\n",
       "    <tr>\n",
       "      <th>28</th>\n",
       "      <td>next time ill pay more money for better qualit...</td>\n",
       "      <td>1</td>\n",
       "    </tr>\n",
       "    <tr>\n",
       "      <th>29</th>\n",
       "      <td>i would not purchase this again after less tha...</td>\n",
       "      <td>1</td>\n",
       "    </tr>\n",
       "    <tr>\n",
       "      <th>...</th>\n",
       "      <td>...</td>\n",
       "      <td>...</td>\n",
       "    </tr>\n",
       "    <tr>\n",
       "      <th>43810</th>\n",
       "      <td>piece of crap!!  pieces were scratched, mirror...</td>\n",
       "      <td>1</td>\n",
       "    </tr>\n",
       "    <tr>\n",
       "      <th>43811</th>\n",
       "      <td>the most uncomfortable chair i have ever bought</td>\n",
       "      <td>1</td>\n",
       "    </tr>\n",
       "    <tr>\n",
       "      <th>43812</th>\n",
       "      <td>much thinner than expected. makes me itch.</td>\n",
       "      <td>1</td>\n",
       "    </tr>\n",
       "    <tr>\n",
       "      <th>43813</th>\n",
       "      <td>try a google search for this brand.  or try to...</td>\n",
       "      <td>1</td>\n",
       "    </tr>\n",
       "    <tr>\n",
       "      <th>43814</th>\n",
       "      <td>i feel that i am a loyal customer with amazon....</td>\n",
       "      <td>1</td>\n",
       "    </tr>\n",
       "    <tr>\n",
       "      <th>43815</th>\n",
       "      <td>clip was too tight and prevented its attachmen...</td>\n",
       "      <td>1</td>\n",
       "    </tr>\n",
       "    <tr>\n",
       "      <th>43816</th>\n",
       "      <td>the fabric on this item feels and looks cheap ...</td>\n",
       "      <td>1</td>\n",
       "    </tr>\n",
       "    <tr>\n",
       "      <th>43817</th>\n",
       "      <td>night therapy deluxe spacesave rollaway guest ...</td>\n",
       "      <td>1</td>\n",
       "    </tr>\n",
       "    <tr>\n",
       "      <th>43818</th>\n",
       "      <td>this chair was awful. when we put it together,...</td>\n",
       "      <td>1</td>\n",
       "    </tr>\n",
       "    <tr>\n",
       "      <th>43819</th>\n",
       "      <td>the item is nice, but the fact that the granit...</td>\n",
       "      <td>1</td>\n",
       "    </tr>\n",
       "    <tr>\n",
       "      <th>43820</th>\n",
       "      <td>the package showed up in bad shape. the pieces...</td>\n",
       "      <td>1</td>\n",
       "    </tr>\n",
       "    <tr>\n",
       "      <th>43821</th>\n",
       "      <td>where do i start? the finish had defects throu...</td>\n",
       "      <td>1</td>\n",
       "    </tr>\n",
       "    <tr>\n",
       "      <th>43822</th>\n",
       "      <td>when the desk arrived it was so heavy i had to...</td>\n",
       "      <td>1</td>\n",
       "    </tr>\n",
       "    <tr>\n",
       "      <th>43823</th>\n",
       "      <td>i bought this chair after much searching in st...</td>\n",
       "      <td>1</td>\n",
       "    </tr>\n",
       "    <tr>\n",
       "      <th>43824</th>\n",
       "      <td>very strong stink paint odor, take long time a...</td>\n",
       "      <td>1</td>\n",
       "    </tr>\n",
       "    <tr>\n",
       "      <th>43825</th>\n",
       "      <td>garbage</td>\n",
       "      <td>1</td>\n",
       "    </tr>\n",
       "    <tr>\n",
       "      <th>43826</th>\n",
       "      <td>bought these wheels based on the reviews and t...</td>\n",
       "      <td>1</td>\n",
       "    </tr>\n",
       "    <tr>\n",
       "      <th>43827</th>\n",
       "      <td>just received this in the mail. extremely disa...</td>\n",
       "      <td>1</td>\n",
       "    </tr>\n",
       "    <tr>\n",
       "      <th>43828</th>\n",
       "      <td>i was so excited to receive the perfect fit fo...</td>\n",
       "      <td>1</td>\n",
       "    </tr>\n",
       "    <tr>\n",
       "      <th>43829</th>\n",
       "      <td>i had no idea what i was getting into...i gues...</td>\n",
       "      <td>1</td>\n",
       "    </tr>\n",
       "    <tr>\n",
       "      <th>43830</th>\n",
       "      <td>i am rather picky when it comes to a broom.  i...</td>\n",
       "      <td>1</td>\n",
       "    </tr>\n",
       "    <tr>\n",
       "      <th>43831</th>\n",
       "      <td>arrived nicely packaged. serious quality issue...</td>\n",
       "      <td>1</td>\n",
       "    </tr>\n",
       "    <tr>\n",
       "      <th>43832</th>\n",
       "      <td>update: so exactly 1 year to the day that i or...</td>\n",
       "      <td>1</td>\n",
       "    </tr>\n",
       "    <tr>\n",
       "      <th>43833</th>\n",
       "      <td>i received 3 different ones that were damaged</td>\n",
       "      <td>1</td>\n",
       "    </tr>\n",
       "    <tr>\n",
       "      <th>43834</th>\n",
       "      <td>fine now  have to wait and see if they hold up</td>\n",
       "      <td>1</td>\n",
       "    </tr>\n",
       "    <tr>\n",
       "      <th>43835</th>\n",
       "      <td>this item is a peice of trash!  i was sleeping...</td>\n",
       "      <td>1</td>\n",
       "    </tr>\n",
       "    <tr>\n",
       "      <th>43836</th>\n",
       "      <td>the first one had a broken drawer and a missin...</td>\n",
       "      <td>1</td>\n",
       "    </tr>\n",
       "    <tr>\n",
       "      <th>43837</th>\n",
       "      <td>even on thin 'industrial office' like carpetin...</td>\n",
       "      <td>1</td>\n",
       "    </tr>\n",
       "    <tr>\n",
       "      <th>43838</th>\n",
       "      <td>looks like someone purchased the bling ribbon ...</td>\n",
       "      <td>1</td>\n",
       "    </tr>\n",
       "    <tr>\n",
       "      <th>43839</th>\n",
       "      <td>we were in a hurry to buy these chests (night ...</td>\n",
       "      <td>1</td>\n",
       "    </tr>\n",
       "  </tbody>\n",
       "</table>\n",
       "<p>43840 rows × 2 columns</p>\n",
       "</div>"
      ],
      "text/plain": [
       "                                                 reviews  star_rating\n",
       "0      when i received these tray tables the faux mar...            1\n",
       "1      i wanted the espresso but seem to have ordered...            1\n",
       "2      i actually ordered 2 of these  the 1st shelf l...            1\n",
       "3      omgthe worst item i have ever purchased on ama...            1\n",
       "4      firt off this is a terrible product i bought t...            1\n",
       "...                                                  ...          ...\n",
       "43835  this item is a peice of trash!  i was sleeping...            1\n",
       "43836  the first one had a broken drawer and a missin...            1\n",
       "43837  even on thin 'industrial office' like carpetin...            1\n",
       "43838  looks like someone purchased the bling ribbon ...            1\n",
       "43839  we were in a hurry to buy these chests (night ...            1\n",
       "\n",
       "[43840 rows x 2 columns]"
      ]
     },
     "execution_count": 313,
     "metadata": {},
     "output_type": "execute_result"
    }
   ],
   "source": [
    "df_negative"
   ]
  },
  {
   "cell_type": "code",
   "execution_count": 329,
   "metadata": {},
   "outputs": [],
   "source": [
    "pos = df_positive['reviews']\n",
    "neg = df_negative['reviews']"
   ]
  },
  {
   "cell_type": "code",
   "execution_count": 343,
   "metadata": {},
   "outputs": [],
   "source": [
    "# def tokenize(text):\n",
    "#     tokens = tokenizer.tokenize(text)\n",
    "#     return tokens\n",
    "\n",
    "# tfidf_vectorizer = TfidfVectorizer(stop_words='english', tokenizer=tokenize)\n",
    "test_tf = tfidf_vectorizer.fit_transform(pos)"
   ]
  },
  {
   "cell_type": "code",
   "execution_count": 344,
   "metadata": {},
   "outputs": [
    {
     "data": {
      "text/plain": [
       "<87680x50064 sparse matrix of type '<class 'numpy.int64'>'\n",
       "\twith 2227724 stored elements in Compressed Sparse Row format>"
      ]
     },
     "execution_count": 344,
     "metadata": {},
     "output_type": "execute_result"
    }
   ],
   "source": [
    "test_tf"
   ]
  },
  {
   "cell_type": "code",
   "execution_count": 347,
   "metadata": {},
   "outputs": [],
   "source": [
    "sum_words = test_tf.sum(axis=0)\n",
    "words_freq = [(word, sum_words[0, idx]) for word, idx in tfidf_vectorizer.vocabulary_.items()]\n",
    "\n",
    "words_freq =sorted(words_freq, key = lambda x: x[1], reverse=True)"
   ]
  },
  {
   "cell_type": "code",
   "execution_count": 348,
   "metadata": {},
   "outputs": [
    {
     "data": {
      "text/plain": [
       "[('br', 6265.762198042953),\n",
       " ('great', 5337.11804814852),\n",
       " ('good', 5031.8078277670065),\n",
       " ('chair', 4724.177023461277),\n",
       " ('nice', 4426.029330302099),\n",
       " ('like', 4103.772277677904),\n",
       " ('quality', 4049.6538706351525),\n",
       " ('easy', 3992.6721841671338),\n",
       " (\"it's\", 3903.1850106267584),\n",
       " ('price', 3855.269046196554),\n",
       " ('looks', 3841.303655490985),\n",
       " ('just', 3814.3918087967977),\n",
       " ('product', 3611.2426677898015),\n",
       " ('table', 3569.4999755269746),\n",
       " ('bed', 3354.1604013289857),\n",
       " ('love', 3218.857540256455),\n",
       " ('rug', 3132.455964814477),\n",
       " ('sturdy', 2903.23800495541),\n",
       " ('mattress', 2839.8030482001463),\n",
       " ('really', 2793.798747424314)]"
      ]
     },
     "execution_count": 348,
     "metadata": {},
     "output_type": "execute_result"
    }
   ],
   "source": [
    "# most common words with ratings 5 and their tfidf\n",
    "words_freq[:20]"
   ]
  },
  {
   "cell_type": "code",
   "execution_count": null,
   "metadata": {},
   "outputs": [],
   "source": []
  },
  {
   "cell_type": "code",
   "execution_count": null,
   "metadata": {},
   "outputs": [],
   "source": []
  }
 ],
 "metadata": {
  "kernelspec": {
   "display_name": "Python 3",
   "language": "python",
   "name": "python3"
  },
  "language_info": {
   "codemirror_mode": {
    "name": "ipython",
    "version": 3
   },
   "file_extension": ".py",
   "mimetype": "text/x-python",
   "name": "python",
   "nbconvert_exporter": "python",
   "pygments_lexer": "ipython3",
   "version": "3.6.7"
  }
 },
 "nbformat": 4,
 "nbformat_minor": 2
}
